{
 "cells": [
  {
   "cell_type": "markdown",
   "metadata": {},
   "source": [
    "# Checking the ANN"
   ]
  },
  {
   "cell_type": "code",
   "execution_count": null,
   "metadata": {},
   "outputs": [],
   "source": [
    "import os\n",
    "cwd = os.getcwd()"
   ]
  },
  {
   "cell_type": "code",
   "execution_count": null,
   "metadata": {},
   "outputs": [],
   "source": [
    "cwd"
   ]
  },
  {
   "cell_type": "code",
   "execution_count": null,
   "metadata": {},
   "outputs": [],
   "source": [
    "from keras.models import load_model\n",
    "import dnns\n",
    "import numpy as np\n",
    "from dnns.noisy_sgd import NoisySGD\n"
   ]
  },
  {
   "cell_type": "code",
   "execution_count": null,
   "metadata": {},
   "outputs": [],
   "source": [
    "# load model\n",
    "model = load_model('../trained_model_of_lenet_300_100_relu_crossent_noisy_sgd_retest_final_dense.h5', custom_objects={'NoisySGD':NoisySGD})"
   ]
  },
  {
   "cell_type": "code",
   "execution_count": null,
   "metadata": {},
   "outputs": [],
   "source": [
    "# summarize model.\n",
    "model.summary()\n",
    "# load dataset"
   ]
  },
  {
   "cell_type": "code",
   "execution_count": null,
   "metadata": {},
   "outputs": [],
   "source": [
    "from dnns.load_dataset import load_and_preprocess_dataset\n",
    "is_output_categorical = True\n",
    "dataset_info = load_and_preprocess_dataset(\n",
    "    'mnist', categorical_output=is_output_categorical)\n",
    "x_train, y_train = dataset_info['train']\n",
    "x_test, y_test = dataset_info['test']\n",
    "img_rows, img_cols = dataset_info['img_dims']\n",
    "input_shape = dataset_info['input_shape']\n",
    "num_classes = dataset_info['num_classes']\n",
    "\n",
    "# reshape input to flatten data\n",
    "x_train = x_train.reshape(x_train.shape[0], 1, np.prod(x_train.shape[1:]))\n",
    "np.savez('x_train', x_train)\n",
    "x_test = x_test.reshape(x_test.shape[0], 1, np.prod(x_test.shape[1:]))\n",
    "np.savez('x_test', x_test)\n",
    "x_norm = x_train[:10000].reshape(10000, 1, np.prod(x_train.shape[1:]))\n",
    "np.savez('x_norm', x_norm)\n",
    "\n",
    "np.savez('y_train', y_train)\n",
    "np.savez('y_test', y_test)"
   ]
  },
  {
   "cell_type": "code",
   "execution_count": null,
   "metadata": {},
   "outputs": [],
   "source": [
    "\n",
    "score = model.evaluate(x_test, y_test, verbose=1, batch_size=10)\n",
    "print('Test Loss:', score[0])\n",
    "print('Test Accuracy:', score[1])\n"
   ]
  },
  {
   "cell_type": "markdown",
   "metadata": {},
   "source": [
    "# Running the Toolbox"
   ]
  },
  {
   "cell_type": "code",
   "execution_count": null,
   "metadata": {},
   "outputs": [],
   "source": [
    "from snntoolbox.bin.run import run_toolbox"
   ]
  },
  {
   "cell_type": "code",
   "execution_count": null,
   "metadata": {},
   "outputs": [],
   "source": [
    "t_stim = 1000\n",
    "testing_examples = 10"
   ]
  },
  {
   "cell_type": "code",
   "execution_count": null,
   "metadata": {},
   "outputs": [],
   "source": [
    "config = \"\"\"[paths]\n",
    "dataset_path = %(path_wd)s\n",
    "filename_ann = trained_model_of_lenet_300_100_relu_crossent_noisy_sgd_retest_final_dense\n",
    "runlabel = lenet_dense_dt_0.1_normalised_99\n",
    "\n",
    "[tools]\n",
    "evaluate_ann = False\n",
    "normalize = False\n",
    "only_serialise = True\n",
    "\n",
    "[normalization]\n",
    "percentile = 99\n",
    "\n",
    "[simulation]\n",
    "simulator = spiNNaker\n",
    "duration = 1000\n",
    "num_to_test = 5\n",
    "batch_size = 5\n",
    "keras_backend = tensorflow\n",
    "dt = 0.1\n",
    "\n",
    "[cell]\n",
    "tau_syn_E = 0.2\n",
    "tau_syn_I = 0.2\n",
    "v_thresh = 1\n",
    "\n",
    "[input]\n",
    "poisson_input = True\n",
    "\n",
    "\n",
    "[output]\n",
    "log_vars = {'all'}\n",
    "plot_vars = {'all'}\"\"\"\n",
    "\n",
    "file='config'\n",
    "with open(file, 'w') as filetowrite:\n",
    "    filetowrite.write(config)\n",
    "\n",
    "f = open(\"config\",\"r\")"
   ]
  },
  {
   "cell_type": "code",
   "execution_count": null,
   "metadata": {},
   "outputs": [],
   "source": [
    "#necessary to fully reset simulator\n",
    "from spinn_front_end_common.utilities import globals_variables\n",
    "globals_variables.unset_simulator()\n",
    "\n",
    "run_toolbox(config_filepath='config',terminal=True)\n",
    "#complains because it tries to do data analysis\n",
    "#in future it would be better to put serialisation inside the toolbox"
   ]
  },
  {
   "cell_type": "markdown",
   "metadata": {},
   "source": [
    "# Running the serialised model"
   ]
  },
  {
   "cell_type": "code",
   "execution_count": null,
   "metadata": {},
   "outputs": [],
   "source": [
    "#necessary to fully reset simulator\n",
    "from spinn_front_end_common.utilities import globals_variables\n",
    "globals_variables.unset_simulator()\n",
    "\n",
    "extra_args = ['lenet_dense_dt_1_not_normalised_serialised', '--t_stim', str(t_stim), '--testing_examples',\\\n",
    "              str(testing_examples), '--result_filename', 'output_data', '--result_dir', '.']\n",
    "import pynn_object_serialisation.experiments.mnist_testing.mnist_testing as mnist_testing\n",
    "from pynn_object_serialisation.experiments.mnist_testing.mnist_argparser import parser\n",
    "\n",
    "new_args = parser.parse_args(extra_args) \n",
    "mnist_testing.run(new_args)\n"
   ]
  },
  {
   "cell_type": "markdown",
   "metadata": {},
   "source": [
    "# Looking at the output"
   ]
  },
  {
   "cell_type": "code",
   "execution_count": null,
   "metadata": {},
   "outputs": [],
   "source": [
    "from pynn_object_serialisation.OutputDataProcessor import OutputDataProcessor\n",
    "np.set_printoptions(suppress=True)"
   ]
  },
  {
   "cell_type": "code",
   "execution_count": null,
   "metadata": {},
   "outputs": [],
   "source": [
    "output = OutputDataProcessor('/mnt/snntoolbox/snn_toolbox_private/examples/models/test_examples/lenet_dense/results/output_data_900.npz')"
   ]
  },
  {
   "cell_type": "code",
   "execution_count": null,
   "metadata": {},
   "outputs": [],
   "source": [
    "spikes = spikes['03Dense_10']"
   ]
  },
  {
   "cell_type": "code",
   "execution_count": null,
   "metadata": {},
   "outputs": [],
   "source": [
    "spikes = spikes + [0,1]"
   ]
  },
  {
   "cell_type": "code",
   "execution_count": null,
   "metadata": {},
   "outputs": [],
   "source": [
    "spikes + [0,1]"
   ]
  },
  {
   "cell_type": "code",
   "execution_count": null,
   "metadata": {},
   "outputs": [],
   "source": [
    "output.t_stim"
   ]
  },
  {
   "cell_type": "code",
   "execution_count": null,
   "metadata": {},
   "outputs": [],
   "source": [
    "output.y_test.shape"
   ]
  },
  {
   "cell_type": "code",
   "execution_count": null,
   "metadata": {},
   "outputs": [],
   "source": [
    "output.accuracy"
   ]
  },
  {
   "cell_type": "code",
   "execution_count": null,
   "metadata": {},
   "outputs": [],
   "source": [
    "output.y_pred == output.y_test"
   ]
  },
  {
   "cell_type": "code",
   "execution_count": null,
   "metadata": {},
   "outputs": [],
   "source": [
    "output.plot_bin(0, output.layer_names[0], shape = (28,28))"
   ]
  },
  {
   "cell_type": "code",
   "execution_count": null,
   "metadata": {},
   "outputs": [],
   "source": [
    "output.layer_names"
   ]
  },
  {
   "cell_type": "code",
   "execution_count": null,
   "metadata": {},
   "outputs": [],
   "source": [
    "output.get_bounds(1)"
   ]
  },
  {
   "cell_type": "markdown",
   "metadata": {},
   "source": [
    "# Multiple Evaluations"
   ]
  },
  {
   "cell_type": "markdown",
   "metadata": {},
   "source": [
    "This is used to make graphs"
   ]
  },
  {
   "cell_type": "code",
   "execution_count": null,
   "metadata": {},
   "outputs": [],
   "source": [
    "#Being run separately\n",
    "import multiprocessing\n",
    "import sys\n",
    "import os\n",
    "from multiprocessing import Pool\n",
    "from time import time\n",
    "import numpy as np\n",
    "\n",
    "def EvaluateModel(t_stim, testing_examples):\n",
    "    current = multiprocessing.current_process()\n",
    "    print('Started {}'.format(current))\n",
    "    f_name = \"errorlog/\" + current.name +\"_stdout.txt\"\n",
    "    g_name = \"errorlog/\" + current.name + \"_stderror.txt\"\n",
    "    f = open(f_name, 'w')\n",
    "    g = open(g_name, 'w')\n",
    "    old_stdout = sys.stdout\n",
    "    old_stderr = sys.stderr\n",
    "    sys.stdout = f\n",
    "    sys.stderr = g\n",
    "        \n",
    "    from spinn_front_end_common.utilities import globals_variables\n",
    "    globals_variables.unset_simulator()\n",
    "\n",
    "    extra_args = ['lenet_dense_dt_0.1_not_normalised_serialised', '--t_stim', str(t_stim), '--testing_examples',\\\n",
    "                  str(testing_examples), '--result_filename', 'output_data_'+str(t_stim), '--result_dir', 'results',\\\n",
    "                  '--chunk_size', '20']\n",
    "    import pynn_object_serialisation.experiments.mnist_testing.mnist_testing as mnist_testing\n",
    "    from pynn_object_serialisation.experiments.mnist_testing.mnist_argparser import parser\n",
    "\n",
    "    new_args = parser.parse_args(extra_args) \n",
    "    mnist_testing.run(new_args)\n",
    "    sys.stdout = old_stdout\n",
    "    sys.stderr = old_stderr\n",
    "    print(\"Run for {} completed\".format(t_stim))\n",
    "    \n",
    "    return"
   ]
  },
  {
   "cell_type": "code",
   "execution_count": null,
   "metadata": {},
   "outputs": [],
   "source": [
    "po = Pool(15)\n",
    "range_input = np.array(range(1000,1600,100))\n",
    "input_data = [(i,100) for i in range_input]\n",
    "#output = po.starmap(EvaluateModel, input_data)\n",
    "print('Done!')"
   ]
  },
  {
   "cell_type": "code",
   "execution_count": null,
   "metadata": {},
   "outputs": [],
   "source": [
    "test = OutputDataProcessor('/mnt/snntoolbox/snn_toolbox_private/examples/models/test_examples/lenet_dense/results/output_data_1000.npz')"
   ]
  },
  {
   "cell_type": "code",
   "execution_count": null,
   "metadata": {},
   "outputs": [],
   "source": [
    "test.y_test"
   ]
  },
  {
   "cell_type": "code",
   "execution_count": null,
   "metadata": {},
   "outputs": [],
   "source": [
    "test.y_pred"
   ]
  },
  {
   "cell_type": "code",
   "execution_count": null,
   "metadata": {},
   "outputs": [],
   "source": [
    "import glob, os\n",
    "from pynn_object_serialisation.OutputDataProcessor import OutputDataProcessor\n",
    "dt_01_accuracies = []\n",
    "\n",
    "os.chdir(\"/mnt/snntoolbox/snn_toolbox_private/examples/models/test_examples/lenet_dense/results/\")\n",
    "for file in glob.glob(\"output_data_[0-9]*.npz\"):\n",
    "    output = OutputDataProcessor('/mnt/snntoolbox/snn_toolbox_private/examples/models/test_examples/lenet_dense/results/'+file)\n",
    "    dt_01_accuracies.append([output.t_stim,output.accuracy])\n",
    "    print(file, output.t_stim,output.accuracy)\n",
    "dt_01_accuracies = np.array(dt_01_accuracies).astype(float)"
   ]
  },
  {
   "cell_type": "code",
   "execution_count": null,
   "metadata": {},
   "outputs": [],
   "source": [
    "import glob, os\n",
    "from pynn_object_serialisation.OutputDataProcessor import OutputDataProcessor\n",
    "dt_1_accuracies = []\n",
    "\n",
    "os.chdir(\"/mnt/snntoolbox/snn_toolbox_private/examples/models/test_examples/lenet_dense/results/\")\n",
    "for file in glob.glob(\"output_data_dt_1_[0-9]*.npz\"):\n",
    "    output = OutputDataProcessor('/mnt/snntoolbox/snn_toolbox_private/examples/models/test_examples/lenet_dense/results/'+file)\n",
    "    dt_1_accuracies.append([output.t_stim,output.accuracy])\n",
    "    print(file, output.t_stim,output.accuracy)\n",
    "dt_1_accuracies = np.array(dt_1_accuracies).astype(float)"
   ]
  },
  {
   "cell_type": "code",
   "execution_count": null,
   "metadata": {},
   "outputs": [],
   "source": [
    "dt_01_accuracies"
   ]
  },
  {
   "cell_type": "code",
   "execution_count": null,
   "metadata": {},
   "outputs": [],
   "source": [
    "import matplotlib.pyplot as plt\n",
    "import numpy as np\n",
    "\n",
    "accuracies = np.array(accuracies)\n",
    "#dt_1_accuracies = dt_1_accuracies[:-1,:]\n",
    "\n",
    "\n",
    "fig = plt.figure(dpi=300)\n",
    "ax = plt.subplot(111)\n",
    "ax.scatter(dt_01_accuracies[:,0], 100*dt_01_accuracies[:,1], label='SNN 0.1ms timestep')\n",
    "ax.scatter(dt_1_accuracies[:,0], 100*dt_1_accuracies[:,1], label='SNN 1ms timestep')\n",
    "box = ax.get_position()\n",
    "ax.set_position([box.x0, box.y0, box.width * 0.8, box.height])\n",
    "ax.set_xlabel('Stimulation time (ms)')\n",
    "ax.set_ylabel('Accuracy (%)')\n",
    "ax.axhline(y=97.9, color='r', linestyle='-', label='ANN (97.9%)')\n",
    "ax.set_ylim([0,100])\n",
    "ax.set_xlim([0,10500])\n",
    "ax.legend(loc='center left', bbox_to_anchor=(1, 0.5))"
   ]
  },
  {
   "cell_type": "code",
   "execution_count": null,
   "metadata": {},
   "outputs": [],
   "source": [
    "range_input = np.array([50,60,70,80,90,95,99])\n",
    "#range_input = np.array([90,95])\n",
    "\n",
    "from pynn_object_serialisation.OutputDataProcessor import OutputDataProcessor\n",
    "dt_01_norm_accuracies = []\n",
    "for norm in range_input:\n",
    "    accuracy = OutputDataProcessor('/mnt/snntoolbox/snn_toolbox_private/examples/models/test_examples/lenet_dense/results/output_data_dt_01_normalised_'+str(norm)+'.npz').accuracy\n",
    "    dt_01_norm_accuracies.append([norm,accuracy])\n",
    "\n",
    "dt_01_norm_accuracies = np.array(dt_01_norm_accuracies)\n",
    "\n"
   ]
  },
  {
   "cell_type": "code",
   "execution_count": null,
   "metadata": {},
   "outputs": [],
   "source": [
    "range_input = np.array([50,60,70,80,90,95,99])\n",
    "from pynn_object_serialisation.OutputDataProcessor import OutputDataProcessor\n",
    "dt_1_norm_accuracies = []\n",
    "for norm in range_input:\n",
    "    accuracy = OutputDataProcessor('/mnt/snntoolbox/snn_toolbox_private/examples/models/test_examples/lenet_dense/results/output_data_dt_1_normalised_'+str(norm)+'.npz').accuracy\n",
    "    dt_1_norm_accuracies.append([norm,accuracy])\n",
    "\n",
    "dt_1_norm_accuracies = np.array(dt_1_norm_accuracies)"
   ]
  },
  {
   "cell_type": "code",
   "execution_count": null,
   "metadata": {},
   "outputs": [],
   "source": [
    "out = OutputDataProcessor('/mnt/snntoolbox/snn_toolbox_private/examples/models/test_examples/lenet_dense/results/output_data_dt_01_normalised_50.npz')"
   ]
  },
  {
   "cell_type": "code",
   "execution_count": null,
   "metadata": {},
   "outputs": [],
   "source": [
    "out.y_pred"
   ]
  },
  {
   "cell_type": "code",
   "execution_count": null,
   "metadata": {},
   "outputs": [],
   "source": [
    "out.y_test"
   ]
  },
  {
   "cell_type": "code",
   "execution_count": null,
   "metadata": {},
   "outputs": [],
   "source": [
    "import matplotlib.pyplot as plt\n",
    "import numpy as np\n",
    "\n",
    "fig = plt.figure(dpi=300)\n",
    "ax = plt.subplot(111)\n",
    "ax.scatter(dt_1_norm_accuracies[:,0], 100*dt_1_norm_accuracies[:,1], label='SNN 1ms timestep')\n",
    "#ax.axhline(y=dt_1_accuracies[])\n",
    "ax.scatter(dt_01_norm_accuracies[:,0], 100*dt_01_norm_accuracies[:,1], label='SNN 0.1ms timestep')\n",
    "\n",
    "box = ax.get_position()\n",
    "ax.set_position([box.x0, box.y0, box.width * 0.8, box.height])\n",
    "ax.set_xlabel('Normalisation percentile')\n",
    "ax.set_ylabel('Accuracy (%)')\n",
    "ax.axhline(y=97.9, color='r', linestyle='-', label='ANN (97.9%)')\n",
    "ax.set_ylim([0,100])\n",
    "ax.set_xlim([40, 100])\n",
    "ax.legend(loc='center left', bbox_to_anchor=(1, 0.5))"
   ]
  },
  {
   "cell_type": "code",
   "execution_count": null,
   "metadata": {},
   "outputs": [],
   "source": [
    "dt_01_norm_accuracies[:,0]"
   ]
  },
  {
   "cell_type": "code",
   "execution_count": null,
   "metadata": {},
   "outputs": [],
   "source": [
    "dt_1_accuracies[:,0]"
   ]
  },
  {
   "cell_type": "code",
   "execution_count": null,
   "metadata": {},
   "outputs": [],
   "source": [
    "from pynn_object_serialisation.OutputDataProcessor import OutputDataProcessor"
   ]
  },
  {
   "cell_type": "code",
   "execution_count": null,
   "metadata": {},
   "outputs": [],
   "source": [
    "sparse_test = OutputDataProcessor('/mnt/snntoolbox/snn_toolbox_private/examples/models/test_examples/lenet_sparse/results/test_1000ms_10_examples_unnormalised_2.npz')\n",
    "sparse_test.accuracy"
   ]
  },
  {
   "cell_type": "code",
   "execution_count": null,
   "metadata": {},
   "outputs": [],
   "source": [
    "sparse_test.y_pred"
   ]
  },
  {
   "cell_type": "code",
   "execution_count": null,
   "metadata": {},
   "outputs": [],
   "source": [
    "sparse_test.y_test"
   ]
  },
  {
   "cell_type": "code",
   "execution_count": null,
   "metadata": {},
   "outputs": [],
   "source": [
    "sparse_test_long = OutputDataProcessor('/mnt/snntoolbox/snn_toolbox_private/examples/models/test_examples/lenet_sparse/results/test_10000ms_10_examples.npz')\n",
    "sparse_test_long.accuracy"
   ]
  },
  {
   "cell_type": "code",
   "execution_count": null,
   "metadata": {},
   "outputs": [],
   "source": [
    "sparse_test.y_pred"
   ]
  },
  {
   "cell_type": "code",
   "execution_count": null,
   "metadata": {},
   "outputs": [],
   "source": [
    "sparse_test.dt"
   ]
  },
  {
   "cell_type": "code",
   "execution_count": null,
   "metadata": {},
   "outputs": [],
   "source": [
    "sparse_test_long.get_counts(5, sparse_test.layer_names[3], 10)"
   ]
  },
  {
   "cell_type": "code",
   "execution_count": null,
   "metadata": {},
   "outputs": [],
   "source": [
    "sparse_test_long.plot_bin(5, sparse_test_long.layer_names[-1], shape=(1,10))"
   ]
  },
  {
   "cell_type": "code",
   "execution_count": null,
   "metadata": {},
   "outputs": [],
   "source": [
    "sparse_test.y_test"
   ]
  },
  {
   "cell_type": "markdown",
   "metadata": {},
   "source": [
    "# Input ANN check activation values"
   ]
  },
  {
   "cell_type": "code",
   "execution_count": null,
   "metadata": {},
   "outputs": [],
   "source": [
    "from keras.models import load_model\n",
    "import dnns\n",
    "import numpy as np\n",
    "from dnns.noisy_sgd import NoisySGD\n",
    "from dnns.sparse_layer import Sparse\n",
    "custom_objects = {'NoisySGD':NoisySGD, 'Sparse':Sparse}"
   ]
  },
  {
   "cell_type": "code",
   "execution_count": null,
   "metadata": {},
   "outputs": [],
   "source": [
    "# load model\n",
    "dense_model = load_model('/mnt/snntoolbox/snn_toolbox_private/examples/models/test_examples/lenet_dense/trained_model_of_lenet_300_100_relu_crossent_noisy_sgd_retest_final_dense.h5', custom_objects=custom_objects)\n",
    "sparse_model = load_model('/mnt/snntoolbox/snn_toolbox_private/examples/models/test_examples/lenet_sparse/trained_model_of_lenet_300_100_relu_crossent_noisy_sgd_retest.h5', custom_objects=custom_objects)"
   ]
  },
  {
   "cell_type": "code",
   "execution_count": null,
   "metadata": {},
   "outputs": [],
   "source": [
    "dense_model.summary()\n",
    "sparse_model.summary()"
   ]
  },
  {
   "cell_type": "code",
   "execution_count": null,
   "metadata": {},
   "outputs": [],
   "source": [
    "print(sparse_model.layers[-1].activation)"
   ]
  },
  {
   "cell_type": "code",
   "execution_count": null,
   "metadata": {},
   "outputs": [],
   "source": [
    "plt.hist(dense_model.layers[3].get_weights()[0].flatten())"
   ]
  },
  {
   "cell_type": "code",
   "execution_count": null,
   "metadata": {},
   "outputs": [],
   "source": [
    "some_weights = sparse_model.layers[-1].get_weights()[2] * sparse_model.layers[-1].get_weights()[0]\n",
    "plt.hist(some_weights[(abs(some_weights) > 0)].flatten(), bins=100)"
   ]
  },
  {
   "cell_type": "code",
   "execution_count": null,
   "metadata": {},
   "outputs": [],
   "source": [
    "np.max(some_weights[some_weights<0])"
   ]
  },
  {
   "cell_type": "code",
   "execution_count": null,
   "metadata": {},
   "outputs": [],
   "source": [
    "from keras.datasets import mnist\n",
    "import matplotlib.pyplot as plt\n",
    "\n",
    "(x_train, y_train), (x_test, y_test) = mnist.load_data()"
   ]
  },
  {
   "cell_type": "code",
   "execution_count": null,
   "metadata": {},
   "outputs": [],
   "source": [
    "from keras.models import Model\n",
    "from keras.activations import relu, linear, tanh, softsign, exponential,sigmoid\n",
    "\n",
    "from vis.utils.utils import apply_modifications\n",
    "\n",
    "model = sparse_model\n",
    "print([layer.name for layer in model.layers])\n",
    "\n",
    "def update_layer_activation(model, activation, index=-1, custom_objects=None):\n",
    "    model.layers[index].activation = activation\n",
    "    return apply_modifications(model, custom_objects=custom_objects)\n",
    "\n",
    "\n",
    "layer_name = 'sparse_3'\n",
    "intermediate_layer_model = Model(inputs=model.input,\n",
    "                                 outputs=model.get_layer(layer_name).output)\n",
    "\n",
    "intermediate_layer_model = update_layer_activation(intermediate_layer_model, linear, custom_objects=custom_objects)\n",
    "\n",
    "\n",
    "print(intermediate_layer_model.layers[-1].activation)\n",
    "intermediate_layer_model.summary()"
   ]
  },
  {
   "cell_type": "code",
   "execution_count": null,
   "metadata": {},
   "outputs": [],
   "source": [
    "intermediate_output = intermediate_layer_model.predict(x_test[:10].reshape((10,1,784)))\n",
    "model_output = model.predict(x_test[:10].reshape((10,1,784)))"
   ]
  },
  {
   "cell_type": "code",
   "execution_count": null,
   "metadata": {},
   "outputs": [],
   "source": [
    "intermediate_output[3]"
   ]
  },
  {
   "cell_type": "code",
   "execution_count": null,
   "metadata": {},
   "outputs": [],
   "source": [
    "intermediate_output = intermediate_layer_model.predict(x_test[:10].reshape((10,1,784)))\n",
    "plt.imshow(intermediate_output[9].reshape(10,-1))\n",
    "plt.colorbar()"
   ]
  },
  {
   "cell_type": "code",
   "execution_count": null,
   "metadata": {},
   "outputs": [],
   "source": [
    "plt.imshow(x_test[0].reshape((28,28)))"
   ]
  },
  {
   "cell_type": "code",
   "execution_count": null,
   "metadata": {},
   "outputs": [],
   "source": [
    "x_test[0].flatten().shape"
   ]
  },
  {
   "cell_type": "code",
   "execution_count": null,
   "metadata": {},
   "outputs": [],
   "source": [
    "plt.imshow(sparse_test.get_counts(9, sparse_test.layer_names[2], 100).reshape((10,-1)))\n",
    "plt.colorbar()"
   ]
  },
  {
   "cell_type": "code",
   "execution_count": null,
   "metadata": {},
   "outputs": [],
   "source": []
  }
 ],
 "metadata": {
  "kernelspec": {
   "display_name": "Python 3",
   "language": "python",
   "name": "python3"
  },
  "language_info": {
   "codemirror_mode": {
    "name": "ipython",
    "version": 3
   },
   "file_extension": ".py",
   "mimetype": "text/x-python",
   "name": "python",
   "nbconvert_exporter": "python",
   "pygments_lexer": "ipython3",
   "version": "3.5.2"
  }
 },
 "nbformat": 4,
 "nbformat_minor": 2
}
