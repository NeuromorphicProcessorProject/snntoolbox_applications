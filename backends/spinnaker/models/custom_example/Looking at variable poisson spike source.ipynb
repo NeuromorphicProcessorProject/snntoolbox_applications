{
 "cells": [
  {
   "cell_type": "code",
   "execution_count": 25,
   "metadata": {},
   "outputs": [],
   "source": [
    "import numpy as np\n",
    "import matplotlib.pyplot as plt\n",
    "%matplotlib inline\n"
   ]
  },
  {
   "cell_type": "code",
   "execution_count": 54,
   "metadata": {},
   "outputs": [
    {
     "name": "stdout",
     "output_type": "stream",
     "text": [
      "['N_layer', 'y_test', 'spikes_dict', 'runtime', 'neo_spikes_dict', 'sim_time', 't_stim']\n"
     ]
    }
   ],
   "source": [
    "data = np.load('mnist_results__160522_08072019.npz')\n",
    "spikes_dict = data['spikes_dict'].ravel()[0]\n",
    "print(data.files)\n"
   ]
  },
  {
   "cell_type": "code",
   "execution_count": 55,
   "metadata": {},
   "outputs": [
    {
     "data": {
      "text/plain": [
       "array([7, 2], dtype=uint8)"
      ]
     },
     "execution_count": 55,
     "metadata": {},
     "output_type": "execute_result"
    }
   ],
   "source": [
    "data['y_test'][:2]"
   ]
  },
  {
   "cell_type": "code",
   "execution_count": 56,
   "metadata": {},
   "outputs": [],
   "source": [
    "all_spikes = spikes_dict['InputLayer']"
   ]
  },
  {
   "cell_type": "code",
   "execution_count": 47,
   "metadata": {},
   "outputs": [
    {
     "data": {
      "text/plain": [
       "{'03Dense_10': array([], shape=(0, 2), dtype=float64),\n",
       " '00Conv2D_24x24x16': array([], shape=(0, 2), dtype=float64),\n",
       " '01DepthwiseConv2D_20x20x64': array([], shape=(0, 2), dtype=float64),\n",
       " 'InputLayer': array([[  94., 1021.],\n",
       "        [  94., 1037.],\n",
       "        [  94., 1067.],\n",
       "        ...,\n",
       "        [ 741.,  973.],\n",
       "        [ 741.,  989.],\n",
       "        [ 741.,  999.]])}"
      ]
     },
     "execution_count": 47,
     "metadata": {},
     "output_type": "execute_result"
    }
   ],
   "source": [
    "spikes_dict"
   ]
  },
  {
   "cell_type": "code",
   "execution_count": 48,
   "metadata": {},
   "outputs": [
    {
     "data": {
      "text/plain": [
       "(47142, 2)"
      ]
     },
     "execution_count": 48,
     "metadata": {},
     "output_type": "execute_result"
    }
   ],
   "source": [
    "spikes_dict['InputLayer'].shape"
   ]
  },
  {
   "cell_type": "code",
   "execution_count": 49,
   "metadata": {},
   "outputs": [
    {
     "data": {
      "text/plain": [
       "array([[  94., 1021.],\n",
       "       [  94., 1037.],\n",
       "       [  94., 1067.],\n",
       "       ...,\n",
       "       [ 741.,  973.],\n",
       "       [ 741.,  989.],\n",
       "       [ 741.,  999.]])"
      ]
     },
     "execution_count": 49,
     "metadata": {},
     "output_type": "execute_result"
    }
   ],
   "source": [
    "spikes_dict['InputLayer']\n",
    "\n",
    "\n"
   ]
  },
  {
   "cell_type": "code",
   "execution_count": 85,
   "metadata": {},
   "outputs": [
    {
     "name": "stdout",
     "output_type": "stream",
     "text": [
      "[[  94. 1021.]\n",
      " [  94. 1037.]\n",
      " [  94. 1067.]\n",
      " ...\n",
      " [ 636. 1955.]\n",
      " [ 636. 1980.]\n",
      " [ 636. 1998.]]\n"
     ]
    }
   ],
   "source": [
    "spikes_for_7 = all_spikes[all_spikes[:,1]>=1000]\n",
    "print(spikes_for_7)"
   ]
  },
  {
   "cell_type": "code",
   "execution_count": 86,
   "metadata": {},
   "outputs": [],
   "source": [
    "counter = np.zeros(28**2)\n",
    "for n_id, time in spikes_for_7:\n",
    "    counter[int(n_id)] += 1"
   ]
  },
  {
   "cell_type": "code",
   "execution_count": 87,
   "metadata": {},
   "outputs": [
    {
     "data": {
      "text/plain": [
       "<matplotlib.image.AxesImage at 0x7fc92487a588>"
      ]
     },
     "execution_count": 87,
     "metadata": {},
     "output_type": "execute_result"
    },
    {
     "data": {
      "image/png": "[encoded data removed]",
      "text/plain": [
       "<Figure size 288x288 with 1 Axes>"
      ]
     },
     "metadata": {
      "needs_background": "light"
     },
     "output_type": "display_data"
    }
   ],
   "source": [
    "plt.matshow(counter.reshape(28,28))"
   ]
  },
  {
   "cell_type": "code",
   "execution_count": 88,
   "metadata": {},
   "outputs": [
    {
     "name": "stdout",
     "output_type": "stream",
     "text": [
      "Max 287.0\n",
      "Min 0.0\n"
     ]
    }
   ],
   "source": [
    "print(\"Max\", np.max(counter))\n",
    "print(\"Min\", np.min(counter))"
   ]
  },
  {
   "cell_type": "code",
   "execution_count": null,
   "metadata": {},
   "outputs": [],
   "source": []
  },
  {
   "cell_type": "code",
   "execution_count": null,
   "metadata": {},
   "outputs": [],
   "source": []
  },
  {
   "cell_type": "code",
   "execution_count": 53,
   "metadata": {},
   "outputs": [
    {
     "data": {
      "text/plain": [
       "(array([ 96., 124., 176., 239., 258.,   0., 158.,  91.,   0.,   0.,   0.,\n",
       "          0.,   0.,   0.,   0.,   0.,   0.,   0.,   0.,   0.,   0.,   0.,\n",
       "          0.,   0.,   0.,   0.,   0.,   0.,   0.,   0.,   0.,   0., 166.,\n",
       "        219.,   0., 264., 263., 268., 244., 231.,   0., 233.,  30.,   0.,\n",
       "          0.,   0.,   0.,   0.,   0.,   0.,   0.,   0.,   0.,   0.,   0.,\n",
       "          0.,   0.,   0.,   0.,   0.,   0.,   0.,   0.,   0.,   0., 152.,\n",
       "        221., 238.,   0., 251., 222., 120., 185., 249.,   0., 244., 105.,\n",
       "          0.,   0.,   0.,   0.,   0.,   0.,   0.,   0.,   0.,   0.,   0.,\n",
       "          0.,   0.,   0.,   0.,   0.,   0.,   0.,   0.,   0.,   0.,  50.,\n",
       "        253., 259., 230.,  32.,   0.,  17.,   0.,   4., 221.,   0., 245.,\n",
       "        134.,   0.,   0.,   0.,   0.,   0.,   0.,   0.,   0.,   0.,   0.,\n",
       "          0.,   0.,   0.,   0.,   0.,   0.,   0.,   0.,   0.,  80.,   0.,\n",
       "        272., 367., 321.,  99.,  40.,   0.,   0.,   0., 118., 244., 242.,\n",
       "          0.,  66.,   0.,   0.,   0.,   0.,   0.,   0.,   0.,   0.,   0.,\n",
       "          0.,   0.,   0.,   0.,   0.,   0.,   0.,   0.,   0.,   0., 211.,\n",
       "          0., 243., 270., 266., 248., 256.,   0., 190., 223., 408., 422.,\n",
       "        423.,   0., 254., 205., 184., 179.,  62.,   0.,   0.,   0.,   0.,\n",
       "          0.,   0.,   0.,   0.,   0.,   0.,   0.,   0.,   0.,   0.,   0.,\n",
       "         59., 129.,   0.,  72., 111., 170., 230., 283.,   0., 367., 487.,\n",
       "        522., 445.,   0., 250., 218., 269., 270., 164.,   0.,   0.,   0.,\n",
       "          0.,   0.,   0.,   0.,   0.,   0.,   0.,   0.,   0.,   0.,   0.,\n",
       "          0.,   0.,   0.,   0.,   0.,   0.,   0.,  17., 139.,   0., 256.,\n",
       "        305., 302., 111.,  37.,   0.,  21., 243., 246., 104.,   0.,   0.,\n",
       "          0.,   0.,   0.,   0.,   0.,   0.,   0.,   0.,   0.,   0.,   0.,\n",
       "          0.,   0.,   0.,   0.,   0.,   0.,   0.,   0.,   0., 127.,   0.,\n",
       "        240., 243., 142.,   0.,   0.,   0.,  78., 251., 219.,  14.,   0.,\n",
       "          0.,   0.,   0.,   0.,   0.,   0.,   0.,   0.,   0.,   0.,   0.,\n",
       "          0.,   0.,   0.,   0.,   0.,   0.,   0.,   0.,   0., 170., 250.,\n",
       "        272.,   0., 160.,  22.,   0.,  23.,   0., 250., 266.,  86.,   0.,\n",
       "          0.,   0.,   0.,   0.,   0.,   0.,   0.,   0.,   0.,   0.,   0.,\n",
       "          0.,   0.,   0.,   0.,   0.,   0.,   0.,   0.,   0.,  21., 223.,\n",
       "        261., 249.,   0.,  40.,   0.,   0., 121., 268.,   0., 216.,  56.,\n",
       "          0.,   0.,   0.,   0.,   0.,   0.,   0.,   0.,   0.,   0.,   0.,\n",
       "          0.,   0.,   0.,   0.,   0.,   0.,   0.,   0.,   0.,   0., 196.,\n",
       "        243., 248., 150.,   0.,   0.,   0.,  54., 250., 230.,   0.,  60.,\n",
       "          0.,   0.,   0.,   0.,   0.,   0.,   0.,   0.,   0.,   0.,   0.,\n",
       "          0.,   0.,   0.,   0.,   0.,   0.,   0.,   0.,   0.,  81.,   0.,\n",
       "        236., 245., 194.,  13.,   0.,   0.,   0., 142., 245., 190.,   0.,\n",
       "          5.,   0.,   0.,   0.,   0.,   0.,   0.,   0.,   0.,   0.,   0.,\n",
       "          0.,   0.,   0.,   0.,   0.,   0.,   0.,   0.,   0.,  22., 193.,\n",
       "          0., 252., 268., 166.,   0.,   0.,   0.,  10., 211., 224.,  60.,\n",
       "          0.,   0.,   0.,   0.,   0.,   0.,   0.,   0.,   0.,   0.,   0.,\n",
       "          0.,   0.,   0.,   0.,   0.,   0.,   0.,   0.,   0.,   0., 118.,\n",
       "        286.,   0., 239., 168.,  15.,   0.,   0.,   0., 109., 250., 185.,\n",
       "          0.,   0.,   0.,   0.,   0.,   0.,   0.,   0.,   0.,   0.,   0.,\n",
       "          0.,   0.,   0.,   0.,   0.,   0.,   0.,   0.,   0.,   0.,   0.,\n",
       "        250., 252., 233.,   0.,  25.,   0.,   0.,  62., 260.,   0., 228.,\n",
       "         52.,   0.,   0.,   0.,   0.,   0.,   0.,   0.,   0.,   0.,   0.,\n",
       "          0.,   0.,   0.,   0.,   0.,   0.,   0.,   0.,   0.,   0.,   0.,\n",
       "          0., 254., 246., 270.,   0.,  38.,  23.,  38., 230., 281.,   0.,\n",
       "        175.,   0.,  10.,  26.,  21.,   0.,  43., 169., 152., 167.,   0.,\n",
       "        160.,  13.,   0.,   0.,   0.,   0.,   0.,   0.,   0.,   0.,   0.,\n",
       "          0.,   0., 234., 254., 268.,   0., 230., 255., 456., 493., 452.,\n",
       "          0., 189., 139., 161., 262., 241.,   0., 240., 263., 267., 279.,\n",
       "        267.,   0., 127.,   0.,   0.,   0.,   0.,   0.,   0.,   0.,   0.,\n",
       "          0.,   0.,   0., 178., 287., 247., 260.,   0., 289., 520., 475.,\n",
       "        310., 279.,   0., 264., 285., 264., 251.,   0., 206., 234., 153.,\n",
       "        118., 110.,   0.,  49.,   0.,   0.,   0.,   0.,   0.,   0.,   0.,\n",
       "          0.,   0.,   0.,   0.,   0., 119., 106., 171.,   0., 353., 411.,\n",
       "        344., 262., 254.,   0., 175., 119., 117.,  40.,   0.,   0.,   0.,\n",
       "          0.,   0.,   0.,   0.,   0.,   0.,   0.,   0.,   0.,   0.,   0.,\n",
       "          0.,   0.,   0.,   0.,   0.,   0.,   0.,   0., 139.,   0., 261.,\n",
       "        261.,  49.,   0.,   0.,   0.,   0.,   0.,   0.,   0.,   0.,   0.,\n",
       "          0.,   0.,   0.,   0.,   0.,   0.,   0.,   0.,   0.,   0.,   0.,\n",
       "          0.,   0.,   0.,   0.,   0.,   0.,   0.,   0.,  59., 229., 242.,\n",
       "          0., 276.,  42.,   0.,   0.,   0.,   0.,   0.,   0.,   0.,   0.,\n",
       "          0.,   0.,   0.,   0.,   0.,   0.,   0.,   0.,   0.,   0.,   0.,\n",
       "          0.,   0.,   0.,   0.,   0.,   0.,   0.,   0.,   0., 116., 234.,\n",
       "        257.,   0., 236.,  48.,   0.,   0.,   0.,   0.,   0.,   0.,   0.,\n",
       "          0.,   0.,   0.,   0.,   0.,   0.,   0.,   0.,   0.,   0.,   0.,\n",
       "          0.,   0.,   0.,   0.,   0.,   0.,   0.,   0.,   0.,   0., 115.,\n",
       "        291., 220.,  24.]),\n",
       " array([ 94.        ,  94.8252551 ,  95.6505102 ,  96.47576531,\n",
       "         97.30102041,  98.12627551,  98.95153061,  99.77678571,\n",
       "        100.60204082, 101.42729592, 102.25255102, 103.07780612,\n",
       "        103.90306122, 104.72831633, 105.55357143, 106.37882653,\n",
       "        107.20408163, 108.02933673, 108.85459184, 109.67984694,\n",
       "        110.50510204, 111.33035714, 112.15561224, 112.98086735,\n",
       "        113.80612245, 114.63137755, 115.45663265, 116.28188776,\n",
       "        117.10714286, 117.93239796, 118.75765306, 119.58290816,\n",
       "        120.40816327, 121.23341837, 122.05867347, 122.88392857,\n",
       "        123.70918367, 124.53443878, 125.35969388, 126.18494898,\n",
       "        127.01020408, 127.83545918, 128.66071429, 129.48596939,\n",
       "        130.31122449, 131.13647959, 131.96173469, 132.7869898 ,\n",
       "        133.6122449 , 134.4375    , 135.2627551 , 136.0880102 ,\n",
       "        136.91326531, 137.73852041, 138.56377551, 139.38903061,\n",
       "        140.21428571, 141.03954082, 141.86479592, 142.69005102,\n",
       "        143.51530612, 144.34056122, 145.16581633, 145.99107143,\n",
       "        146.81632653, 147.64158163, 148.46683673, 149.29209184,\n",
       "        150.11734694, 150.94260204, 151.76785714, 152.59311224,\n",
       "        153.41836735, 154.24362245, 155.06887755, 155.89413265,\n",
       "        156.71938776, 157.54464286, 158.36989796, 159.19515306,\n",
       "        160.02040816, 160.84566327, 161.67091837, 162.49617347,\n",
       "        163.32142857, 164.14668367, 164.97193878, 165.79719388,\n",
       "        166.62244898, 167.44770408, 168.27295918, 169.09821429,\n",
       "        169.92346939, 170.74872449, 171.57397959, 172.39923469,\n",
       "        173.2244898 , 174.0497449 , 174.875     , 175.7002551 ,\n",
       "        176.5255102 , 177.35076531, 178.17602041, 179.00127551,\n",
       "        179.82653061, 180.65178571, 181.47704082, 182.30229592,\n",
       "        183.12755102, 183.95280612, 184.77806122, 185.60331633,\n",
       "        186.42857143, 187.25382653, 188.07908163, 188.90433673,\n",
       "        189.72959184, 190.55484694, 191.38010204, 192.20535714,\n",
       "        193.03061224, 193.85586735, 194.68112245, 195.50637755,\n",
       "        196.33163265, 197.15688776, 197.98214286, 198.80739796,\n",
       "        199.63265306, 200.45790816, 201.28316327, 202.10841837,\n",
       "        202.93367347, 203.75892857, 204.58418367, 205.40943878,\n",
       "        206.23469388, 207.05994898, 207.88520408, 208.71045918,\n",
       "        209.53571429, 210.36096939, 211.18622449, 212.01147959,\n",
       "        212.83673469, 213.6619898 , 214.4872449 , 215.3125    ,\n",
       "        216.1377551 , 216.9630102 , 217.78826531, 218.61352041,\n",
       "        219.43877551, 220.26403061, 221.08928571, 221.91454082,\n",
       "        222.73979592, 223.56505102, 224.39030612, 225.21556122,\n",
       "        226.04081633, 226.86607143, 227.69132653, 228.51658163,\n",
       "        229.34183673, 230.16709184, 230.99234694, 231.81760204,\n",
       "        232.64285714, 233.46811224, 234.29336735, 235.11862245,\n",
       "        235.94387755, 236.76913265, 237.59438776, 238.41964286,\n",
       "        239.24489796, 240.07015306, 240.89540816, 241.72066327,\n",
       "        242.54591837, 243.37117347, 244.19642857, 245.02168367,\n",
       "        245.84693878, 246.67219388, 247.49744898, 248.32270408,\n",
       "        249.14795918, 249.97321429, 250.79846939, 251.62372449,\n",
       "        252.44897959, 253.27423469, 254.0994898 , 254.9247449 ,\n",
       "        255.75      , 256.5752551 , 257.4005102 , 258.22576531,\n",
       "        259.05102041, 259.87627551, 260.70153061, 261.52678571,\n",
       "        262.35204082, 263.17729592, 264.00255102, 264.82780612,\n",
       "        265.65306122, 266.47831633, 267.30357143, 268.12882653,\n",
       "        268.95408163, 269.77933673, 270.60459184, 271.42984694,\n",
       "        272.25510204, 273.08035714, 273.90561224, 274.73086735,\n",
       "        275.55612245, 276.38137755, 277.20663265, 278.03188776,\n",
       "        278.85714286, 279.68239796, 280.50765306, 281.33290816,\n",
       "        282.15816327, 282.98341837, 283.80867347, 284.63392857,\n",
       "        285.45918367, 286.28443878, 287.10969388, 287.93494898,\n",
       "        288.76020408, 289.58545918, 290.41071429, 291.23596939,\n",
       "        292.06122449, 292.88647959, 293.71173469, 294.5369898 ,\n",
       "        295.3622449 , 296.1875    , 297.0127551 , 297.8380102 ,\n",
       "        298.66326531, 299.48852041, 300.31377551, 301.13903061,\n",
       "        301.96428571, 302.78954082, 303.61479592, 304.44005102,\n",
       "        305.26530612, 306.09056122, 306.91581633, 307.74107143,\n",
       "        308.56632653, 309.39158163, 310.21683673, 311.04209184,\n",
       "        311.86734694, 312.69260204, 313.51785714, 314.34311224,\n",
       "        315.16836735, 315.99362245, 316.81887755, 317.64413265,\n",
       "        318.46938776, 319.29464286, 320.11989796, 320.94515306,\n",
       "        321.77040816, 322.59566327, 323.42091837, 324.24617347,\n",
       "        325.07142857, 325.89668367, 326.72193878, 327.54719388,\n",
       "        328.37244898, 329.19770408, 330.02295918, 330.84821429,\n",
       "        331.67346939, 332.49872449, 333.32397959, 334.14923469,\n",
       "        334.9744898 , 335.7997449 , 336.625     , 337.4502551 ,\n",
       "        338.2755102 , 339.10076531, 339.92602041, 340.75127551,\n",
       "        341.57653061, 342.40178571, 343.22704082, 344.05229592,\n",
       "        344.87755102, 345.70280612, 346.52806122, 347.35331633,\n",
       "        348.17857143, 349.00382653, 349.82908163, 350.65433673,\n",
       "        351.47959184, 352.30484694, 353.13010204, 353.95535714,\n",
       "        354.78061224, 355.60586735, 356.43112245, 357.25637755,\n",
       "        358.08163265, 358.90688776, 359.73214286, 360.55739796,\n",
       "        361.38265306, 362.20790816, 363.03316327, 363.85841837,\n",
       "        364.68367347, 365.50892857, 366.33418367, 367.15943878,\n",
       "        367.98469388, 368.80994898, 369.63520408, 370.46045918,\n",
       "        371.28571429, 372.11096939, 372.93622449, 373.76147959,\n",
       "        374.58673469, 375.4119898 , 376.2372449 , 377.0625    ,\n",
       "        377.8877551 , 378.7130102 , 379.53826531, 380.36352041,\n",
       "        381.18877551, 382.01403061, 382.83928571, 383.66454082,\n",
       "        384.48979592, 385.31505102, 386.14030612, 386.96556122,\n",
       "        387.79081633, 388.61607143, 389.44132653, 390.26658163,\n",
       "        391.09183673, 391.91709184, 392.74234694, 393.56760204,\n",
       "        394.39285714, 395.21811224, 396.04336735, 396.86862245,\n",
       "        397.69387755, 398.51913265, 399.34438776, 400.16964286,\n",
       "        400.99489796, 401.82015306, 402.64540816, 403.47066327,\n",
       "        404.29591837, 405.12117347, 405.94642857, 406.77168367,\n",
       "        407.59693878, 408.42219388, 409.24744898, 410.07270408,\n",
       "        410.89795918, 411.72321429, 412.54846939, 413.37372449,\n",
       "        414.19897959, 415.02423469, 415.8494898 , 416.6747449 ,\n",
       "        417.5       , 418.3252551 , 419.1505102 , 419.97576531,\n",
       "        420.80102041, 421.62627551, 422.45153061, 423.27678571,\n",
       "        424.10204082, 424.92729592, 425.75255102, 426.57780612,\n",
       "        427.40306122, 428.22831633, 429.05357143, 429.87882653,\n",
       "        430.70408163, 431.52933673, 432.35459184, 433.17984694,\n",
       "        434.00510204, 434.83035714, 435.65561224, 436.48086735,\n",
       "        437.30612245, 438.13137755, 438.95663265, 439.78188776,\n",
       "        440.60714286, 441.43239796, 442.25765306, 443.08290816,\n",
       "        443.90816327, 444.73341837, 445.55867347, 446.38392857,\n",
       "        447.20918367, 448.03443878, 448.85969388, 449.68494898,\n",
       "        450.51020408, 451.33545918, 452.16071429, 452.98596939,\n",
       "        453.81122449, 454.63647959, 455.46173469, 456.2869898 ,\n",
       "        457.1122449 , 457.9375    , 458.7627551 , 459.5880102 ,\n",
       "        460.41326531, 461.23852041, 462.06377551, 462.88903061,\n",
       "        463.71428571, 464.53954082, 465.36479592, 466.19005102,\n",
       "        467.01530612, 467.84056122, 468.66581633, 469.49107143,\n",
       "        470.31632653, 471.14158163, 471.96683673, 472.79209184,\n",
       "        473.61734694, 474.44260204, 475.26785714, 476.09311224,\n",
       "        476.91836735, 477.74362245, 478.56887755, 479.39413265,\n",
       "        480.21938776, 481.04464286, 481.86989796, 482.69515306,\n",
       "        483.52040816, 484.34566327, 485.17091837, 485.99617347,\n",
       "        486.82142857, 487.64668367, 488.47193878, 489.29719388,\n",
       "        490.12244898, 490.94770408, 491.77295918, 492.59821429,\n",
       "        493.42346939, 494.24872449, 495.07397959, 495.89923469,\n",
       "        496.7244898 , 497.5497449 , 498.375     , 499.2002551 ,\n",
       "        500.0255102 , 500.85076531, 501.67602041, 502.50127551,\n",
       "        503.32653061, 504.15178571, 504.97704082, 505.80229592,\n",
       "        506.62755102, 507.45280612, 508.27806122, 509.10331633,\n",
       "        509.92857143, 510.75382653, 511.57908163, 512.40433673,\n",
       "        513.22959184, 514.05484694, 514.88010204, 515.70535714,\n",
       "        516.53061224, 517.35586735, 518.18112245, 519.00637755,\n",
       "        519.83163265, 520.65688776, 521.48214286, 522.30739796,\n",
       "        523.13265306, 523.95790816, 524.78316327, 525.60841837,\n",
       "        526.43367347, 527.25892857, 528.08418367, 528.90943878,\n",
       "        529.73469388, 530.55994898, 531.38520408, 532.21045918,\n",
       "        533.03571429, 533.86096939, 534.68622449, 535.51147959,\n",
       "        536.33673469, 537.1619898 , 537.9872449 , 538.8125    ,\n",
       "        539.6377551 , 540.4630102 , 541.28826531, 542.11352041,\n",
       "        542.93877551, 543.76403061, 544.58928571, 545.41454082,\n",
       "        546.23979592, 547.06505102, 547.89030612, 548.71556122,\n",
       "        549.54081633, 550.36607143, 551.19132653, 552.01658163,\n",
       "        552.84183673, 553.66709184, 554.49234694, 555.31760204,\n",
       "        556.14285714, 556.96811224, 557.79336735, 558.61862245,\n",
       "        559.44387755, 560.26913265, 561.09438776, 561.91964286,\n",
       "        562.74489796, 563.57015306, 564.39540816, 565.22066327,\n",
       "        566.04591837, 566.87117347, 567.69642857, 568.52168367,\n",
       "        569.34693878, 570.17219388, 570.99744898, 571.82270408,\n",
       "        572.64795918, 573.47321429, 574.29846939, 575.12372449,\n",
       "        575.94897959, 576.77423469, 577.5994898 , 578.4247449 ,\n",
       "        579.25      , 580.0752551 , 580.9005102 , 581.72576531,\n",
       "        582.55102041, 583.37627551, 584.20153061, 585.02678571,\n",
       "        585.85204082, 586.67729592, 587.50255102, 588.32780612,\n",
       "        589.15306122, 589.97831633, 590.80357143, 591.62882653,\n",
       "        592.45408163, 593.27933673, 594.10459184, 594.92984694,\n",
       "        595.75510204, 596.58035714, 597.40561224, 598.23086735,\n",
       "        599.05612245, 599.88137755, 600.70663265, 601.53188776,\n",
       "        602.35714286, 603.18239796, 604.00765306, 604.83290816,\n",
       "        605.65816327, 606.48341837, 607.30867347, 608.13392857,\n",
       "        608.95918367, 609.78443878, 610.60969388, 611.43494898,\n",
       "        612.26020408, 613.08545918, 613.91071429, 614.73596939,\n",
       "        615.56122449, 616.38647959, 617.21173469, 618.0369898 ,\n",
       "        618.8622449 , 619.6875    , 620.5127551 , 621.3380102 ,\n",
       "        622.16326531, 622.98852041, 623.81377551, 624.63903061,\n",
       "        625.46428571, 626.28954082, 627.11479592, 627.94005102,\n",
       "        628.76530612, 629.59056122, 630.41581633, 631.24107143,\n",
       "        632.06632653, 632.89158163, 633.71683673, 634.54209184,\n",
       "        635.36734694, 636.19260204, 637.01785714, 637.84311224,\n",
       "        638.66836735, 639.49362245, 640.31887755, 641.14413265,\n",
       "        641.96938776, 642.79464286, 643.61989796, 644.44515306,\n",
       "        645.27040816, 646.09566327, 646.92091837, 647.74617347,\n",
       "        648.57142857, 649.39668367, 650.22193878, 651.04719388,\n",
       "        651.87244898, 652.69770408, 653.52295918, 654.34821429,\n",
       "        655.17346939, 655.99872449, 656.82397959, 657.64923469,\n",
       "        658.4744898 , 659.2997449 , 660.125     , 660.9502551 ,\n",
       "        661.7755102 , 662.60076531, 663.42602041, 664.25127551,\n",
       "        665.07653061, 665.90178571, 666.72704082, 667.55229592,\n",
       "        668.37755102, 669.20280612, 670.02806122, 670.85331633,\n",
       "        671.67857143, 672.50382653, 673.32908163, 674.15433673,\n",
       "        674.97959184, 675.80484694, 676.63010204, 677.45535714,\n",
       "        678.28061224, 679.10586735, 679.93112245, 680.75637755,\n",
       "        681.58163265, 682.40688776, 683.23214286, 684.05739796,\n",
       "        684.88265306, 685.70790816, 686.53316327, 687.35841837,\n",
       "        688.18367347, 689.00892857, 689.83418367, 690.65943878,\n",
       "        691.48469388, 692.30994898, 693.13520408, 693.96045918,\n",
       "        694.78571429, 695.61096939, 696.43622449, 697.26147959,\n",
       "        698.08673469, 698.9119898 , 699.7372449 , 700.5625    ,\n",
       "        701.3877551 , 702.2130102 , 703.03826531, 703.86352041,\n",
       "        704.68877551, 705.51403061, 706.33928571, 707.16454082,\n",
       "        707.98979592, 708.81505102, 709.64030612, 710.46556122,\n",
       "        711.29081633, 712.11607143, 712.94132653, 713.76658163,\n",
       "        714.59183673, 715.41709184, 716.24234694, 717.06760204,\n",
       "        717.89285714, 718.71811224, 719.54336735, 720.36862245,\n",
       "        721.19387755, 722.01913265, 722.84438776, 723.66964286,\n",
       "        724.49489796, 725.32015306, 726.14540816, 726.97066327,\n",
       "        727.79591837, 728.62117347, 729.44642857, 730.27168367,\n",
       "        731.09693878, 731.92219388, 732.74744898, 733.57270408,\n",
       "        734.39795918, 735.22321429, 736.04846939, 736.87372449,\n",
       "        737.69897959, 738.52423469, 739.3494898 , 740.1747449 ,\n",
       "        741.        ]),\n",
       " <a list of 784 Patch objects>)"
      ]
     },
     "execution_count": 53,
     "metadata": {},
     "output_type": "execute_result"
    },
    {
     "data": {
      "image/png": "[encoded data removed]",
      "text/plain": [
       "<Figure size 432x288 with 1 Axes>"
      ]
     },
     "metadata": {
      "needs_background": "light"
     },
     "output_type": "display_data"
    }
   ],
   "source": [
    "plt.hist(spikes_dict['InputLayer'][:,0], bins=784)"
   ]
  },
  {
   "cell_type": "code",
   "execution_count": 51,
   "metadata": {},
   "outputs": [
    {
     "data": {
      "text/plain": [
       "-0.2612569034099579"
      ]
     },
     "execution_count": 51,
     "metadata": {},
     "output_type": "execute_result"
    }
   ],
   "source": [
    "data = np.load('snn_toolbox_spinnaker__130431_08072019.npz')\n",
    "data.files\n",
    "exc_proj_data = data['139931214900920']\n",
    "inh_proj_data = data['139931214901144']\n",
    "inh_proj_data[:,2].min()"
   ]
  },
  {
   "cell_type": "code",
   "execution_count": 52,
   "metadata": {},
   "outputs": [
    {
     "data": {
      "text/plain": [
       "['json_data',\n",
       " '139931214900920',\n",
       " '139931214901144',\n",
       " '139931073773640',\n",
       " '139931073773864',\n",
       " '139931089249224',\n",
       " '139931089249448']"
      ]
     },
     "execution_count": 52,
     "metadata": {},
     "output_type": "execute_result"
    }
   ],
   "source": [
    "data.files\n"
   ]
  },
  {
   "cell_type": "code",
   "execution_count": null,
   "metadata": {},
   "outputs": [],
   "source": []
  }
 ],
 "metadata": {
  "kernelspec": {
   "display_name": "Python 3",
   "language": "python",
   "name": "python3"
  },
  "language_info": {
   "codemirror_mode": {
    "name": "ipython",
    "version": 3
   },
   "file_extension": ".py",
   "mimetype": "text/x-python",
   "name": "python",
   "nbconvert_exporter": "python",
   "pygments_lexer": "ipython3",
   "version": "3.7.3"
  }
 },
 "nbformat": 4,
 "nbformat_minor": 2
}
